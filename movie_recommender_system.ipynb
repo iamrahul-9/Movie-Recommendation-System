{
 "cells": [
  {
   "cell_type": "markdown",
   "id": "7e847d3e",
   "metadata": {
    "papermill": {
     "duration": 0.012782,
     "end_time": "2023-01-23T13:01:59.834673",
     "exception": false,
     "start_time": "2023-01-23T13:01:59.821891",
     "status": "completed"
    },
    "tags": []
   },
   "source": [
    "## Importing important libraries"
   ]
  },
  {
   "cell_type": "code",
   "execution_count": 1,
   "id": "96cd7b5e",
   "metadata": {
    "execution": {
     "iopub.execute_input": "2023-01-23T13:01:59.942896Z",
     "iopub.status.busy": "2023-01-23T13:01:59.942443Z",
     "iopub.status.idle": "2023-01-23T13:02:00.907347Z",
     "shell.execute_reply": "2023-01-23T13:02:00.906089Z"
    },
    "papermill": {
     "duration": 0.97964,
     "end_time": "2023-01-23T13:02:00.910309",
     "exception": false,
     "start_time": "2023-01-23T13:01:59.930669",
     "status": "completed"
    },
    "tags": []
   },
   "outputs": [],
   "source": [
    "import sklearn as sk\n",
    "import numpy as np # linear algebra\n",
    "import pandas as pd # data processing, CSV file I/O (e.g. pd.read_csv)"
   ]
  },
  {
   "cell_type": "markdown",
   "id": "1bfd2bb4",
   "metadata": {},
   "source": [
    "## Loading dataset into a Pandas DataFrame"
   ]
  },
  {
   "cell_type": "code",
   "execution_count": 2,
   "id": "f250598d",
   "metadata": {
    "execution": {
     "iopub.execute_input": "2023-01-23T13:02:00.934544Z",
     "iopub.status.busy": "2023-01-23T13:02:00.934080Z",
     "iopub.status.idle": "2023-01-23T13:02:11.204481Z",
     "shell.execute_reply": "2023-01-23T13:02:11.203765Z"
    },
    "papermill": {
     "duration": 10.285289,
     "end_time": "2023-01-23T13:02:11.207142",
     "exception": false,
     "start_time": "2023-01-23T13:02:00.921853",
     "status": "completed"
    },
    "tags": []
   },
   "outputs": [
    {
     "data": {
      "text/html": [
       "<div>\n",
       "<style scoped>\n",
       "    .dataframe tbody tr th:only-of-type {\n",
       "        vertical-align: middle;\n",
       "    }\n",
       "\n",
       "    .dataframe tbody tr th {\n",
       "        vertical-align: top;\n",
       "    }\n",
       "\n",
       "    .dataframe thead th {\n",
       "        text-align: right;\n",
       "    }\n",
       "</style>\n",
       "<table border=\"1\" class=\"dataframe\">\n",
       "  <thead>\n",
       "    <tr style=\"text-align: right;\">\n",
       "      <th></th>\n",
       "      <th>id</th>\n",
       "      <th>title</th>\n",
       "      <th>genres</th>\n",
       "      <th>original_language</th>\n",
       "      <th>overview</th>\n",
       "      <th>popularity</th>\n",
       "      <th>production_companies</th>\n",
       "      <th>release_date</th>\n",
       "      <th>budget</th>\n",
       "      <th>revenue</th>\n",
       "      <th>runtime</th>\n",
       "      <th>status</th>\n",
       "      <th>tagline</th>\n",
       "      <th>vote_average</th>\n",
       "      <th>vote_count</th>\n",
       "      <th>credits</th>\n",
       "      <th>keywords</th>\n",
       "      <th>poster_path</th>\n",
       "      <th>backdrop_path</th>\n",
       "      <th>recommendations</th>\n",
       "    </tr>\n",
       "  </thead>\n",
       "  <tbody>\n",
       "    <tr>\n",
       "      <th>0</th>\n",
       "      <td>677179</td>\n",
       "      <td>Creed III</td>\n",
       "      <td>Drama-Action</td>\n",
       "      <td>en</td>\n",
       "      <td>After dominating the boxing world Adonis Creed...</td>\n",
       "      <td>9575.225</td>\n",
       "      <td>Metro-Goldwyn-Mayer-Proximity Media-Balboa Pro...</td>\n",
       "      <td>2023-03-01</td>\n",
       "      <td>75000000.0</td>\n",
       "      <td>2.580000e+08</td>\n",
       "      <td>116.0</td>\n",
       "      <td>Released</td>\n",
       "      <td>You can't run from your past.</td>\n",
       "      <td>7.305</td>\n",
       "      <td>845.0</td>\n",
       "      <td>Michael B. Jordan-Tessa Thompson-Jonathan Majo...</td>\n",
       "      <td>philadelphia pennsylvania-husband wife relatio...</td>\n",
       "      <td>/vJU3rXSP9hwUuLeq8IpfsJShLOk.jpg</td>\n",
       "      <td>/5i6SjyDbDWqyun8klUuCxrlFbyw.jpg</td>\n",
       "      <td>965839-267805-943822-842942-1035806-823999-107...</td>\n",
       "    </tr>\n",
       "    <tr>\n",
       "      <th>1</th>\n",
       "      <td>76600</td>\n",
       "      <td>Avatar: The Way of Water</td>\n",
       "      <td>Science Fiction-Adventure-Action</td>\n",
       "      <td>en</td>\n",
       "      <td>Set more than a decade after the events of the...</td>\n",
       "      <td>9366.788</td>\n",
       "      <td>20th Century Studios-Lightstorm Entertainment</td>\n",
       "      <td>2022-12-14</td>\n",
       "      <td>350000000.0</td>\n",
       "      <td>2.312336e+09</td>\n",
       "      <td>192.0</td>\n",
       "      <td>Released</td>\n",
       "      <td>Return to Pandora.</td>\n",
       "      <td>7.751</td>\n",
       "      <td>6748.0</td>\n",
       "      <td>Sam Worthington-Zoe Saldaña-Sigourney Weaver-S...</td>\n",
       "      <td>loss of loved one-dying and death-alien life-f...</td>\n",
       "      <td>/t6HIqrRAclMCA60NsSmeqe9RmNV.jpg</td>\n",
       "      <td>/s16H6tpK2utvwDtzZ8Qy4qm5Emw.jpg</td>\n",
       "      <td>183392-111332-702432-505642-1064215-436270-874...</td>\n",
       "    </tr>\n",
       "  </tbody>\n",
       "</table>\n",
       "</div>"
      ],
      "text/plain": [
       "       id                     title                            genres  \\\n",
       "0  677179                 Creed III                      Drama-Action   \n",
       "1   76600  Avatar: The Way of Water  Science Fiction-Adventure-Action   \n",
       "\n",
       "  original_language                                           overview  \\\n",
       "0                en  After dominating the boxing world Adonis Creed...   \n",
       "1                en  Set more than a decade after the events of the...   \n",
       "\n",
       "   popularity                               production_companies release_date  \\\n",
       "0    9575.225  Metro-Goldwyn-Mayer-Proximity Media-Balboa Pro...   2023-03-01   \n",
       "1    9366.788      20th Century Studios-Lightstorm Entertainment   2022-12-14   \n",
       "\n",
       "        budget       revenue  runtime    status  \\\n",
       "0   75000000.0  2.580000e+08    116.0  Released   \n",
       "1  350000000.0  2.312336e+09    192.0  Released   \n",
       "\n",
       "                         tagline  vote_average  vote_count  \\\n",
       "0  You can't run from your past.         7.305       845.0   \n",
       "1             Return to Pandora.         7.751      6748.0   \n",
       "\n",
       "                                             credits  \\\n",
       "0  Michael B. Jordan-Tessa Thompson-Jonathan Majo...   \n",
       "1  Sam Worthington-Zoe Saldaña-Sigourney Weaver-S...   \n",
       "\n",
       "                                            keywords  \\\n",
       "0  philadelphia pennsylvania-husband wife relatio...   \n",
       "1  loss of loved one-dying and death-alien life-f...   \n",
       "\n",
       "                        poster_path                     backdrop_path  \\\n",
       "0  /vJU3rXSP9hwUuLeq8IpfsJShLOk.jpg  /5i6SjyDbDWqyun8klUuCxrlFbyw.jpg   \n",
       "1  /t6HIqrRAclMCA60NsSmeqe9RmNV.jpg  /s16H6tpK2utvwDtzZ8Qy4qm5Emw.jpg   \n",
       "\n",
       "                                     recommendations  \n",
       "0  965839-267805-943822-842942-1035806-823999-107...  \n",
       "1  183392-111332-702432-505642-1064215-436270-874...  "
      ]
     },
     "execution_count": 2,
     "metadata": {},
     "output_type": "execute_result"
    }
   ],
   "source": [
    "data = pd.read_csv(\"Dataset/movies.csv\")\n",
    "\n",
    "# checking if data is loaded or not in variable(data)\n",
    "data.head(2)"
   ]
  },
  {
   "cell_type": "markdown",
   "id": "05d09278",
   "metadata": {
    "papermill": {
     "duration": 0.010552,
     "end_time": "2023-01-23T13:02:11.251014",
     "exception": false,
     "start_time": "2023-01-23T13:02:11.240462",
     "status": "completed"
    },
    "tags": []
   },
   "source": [
    "## Analyzing Data"
   ]
  },
  {
   "cell_type": "code",
   "execution_count": 3,
   "id": "27a37939",
   "metadata": {
    "execution": {
     "iopub.execute_input": "2023-01-23T13:02:11.298132Z",
     "iopub.status.busy": "2023-01-23T13:02:11.297392Z",
     "iopub.status.idle": "2023-01-23T13:02:11.302840Z",
     "shell.execute_reply": "2023-01-23T13:02:11.301379Z"
    },
    "papermill": {
     "duration": 0.021003,
     "end_time": "2023-01-23T13:02:11.305307",
     "exception": false,
     "start_time": "2023-01-23T13:02:11.284304",
     "status": "completed"
    },
    "tags": []
   },
   "outputs": [
    {
     "name": "stdout",
     "output_type": "stream",
     "text": [
      "(722946, 20)\n"
     ]
    }
   ],
   "source": [
    "#check the shape of data\n",
    "print(data.shape)"
   ]
  },
  {
   "cell_type": "markdown",
   "id": "528f43b1",
   "metadata": {
    "papermill": {
     "duration": 0.010662,
     "end_time": "2023-01-23T13:02:11.327212",
     "exception": false,
     "start_time": "2023-01-23T13:02:11.316550",
     "status": "completed"
    },
    "tags": []
   },
   "source": [
    "__Observation__ \\\n",
    "We have about __729K movies__ in the dataset and about __20 features__ of each movies."
   ]
  },
  {
   "cell_type": "code",
   "execution_count": 4,
   "id": "d8eb2faf",
   "metadata": {
    "execution": {
     "iopub.execute_input": "2023-01-23T13:02:11.350875Z",
     "iopub.status.busy": "2023-01-23T13:02:11.350462Z",
     "iopub.status.idle": "2023-01-23T13:02:11.827709Z",
     "shell.execute_reply": "2023-01-23T13:02:11.826595Z"
    },
    "papermill": {
     "duration": 0.491797,
     "end_time": "2023-01-23T13:02:11.829934",
     "exception": false,
     "start_time": "2023-01-23T13:02:11.338137",
     "status": "completed"
    },
    "tags": []
   },
   "outputs": [
    {
     "name": "stdout",
     "output_type": "stream",
     "text": [
      "<class 'pandas.core.frame.DataFrame'>\n",
      "RangeIndex: 722946 entries, 0 to 722945\n",
      "Data columns (total 20 columns):\n",
      " #   Column                Non-Null Count   Dtype  \n",
      "---  ------                --------------   -----  \n",
      " 0   id                    722946 non-null  int64  \n",
      " 1   title                 722942 non-null  object \n",
      " 2   genres                511964 non-null  object \n",
      " 3   original_language     722946 non-null  object \n",
      " 4   overview              604287 non-null  object \n",
      " 5   popularity            722946 non-null  float64\n",
      " 6   production_companies  337168 non-null  object \n",
      " 7   release_date          670269 non-null  object \n",
      " 8   budget                722946 non-null  float64\n",
      " 9   revenue               722946 non-null  float64\n",
      " 10  runtime               688455 non-null  float64\n",
      " 11  status                722946 non-null  object \n",
      " 12  tagline               108059 non-null  object \n",
      " 13  vote_average          722946 non-null  float64\n",
      " 14  vote_count            722946 non-null  float64\n",
      " 15  credits               497782 non-null  object \n",
      " 16  keywords              210230 non-null  object \n",
      " 17  poster_path           537547 non-null  object \n",
      " 18  backdrop_path         222412 non-null  object \n",
      " 19  recommendations       34690 non-null   object \n",
      "dtypes: float64(6), int64(1), object(13)\n",
      "memory usage: 110.3+ MB\n"
     ]
    }
   ],
   "source": [
    "# check columns of data and its data-types present in dataframe\n",
    "data.info()"
   ]
  },
  {
   "cell_type": "code",
   "execution_count": 5,
   "id": "85e15401",
   "metadata": {
    "execution": {
     "iopub.execute_input": "2023-01-23T13:02:11.855763Z",
     "iopub.status.busy": "2023-01-23T13:02:11.855246Z",
     "iopub.status.idle": "2023-01-23T13:02:12.304583Z",
     "shell.execute_reply": "2023-01-23T13:02:12.303375Z"
    },
    "papermill": {
     "duration": 0.465172,
     "end_time": "2023-01-23T13:02:12.306921",
     "exception": false,
     "start_time": "2023-01-23T13:02:11.841749",
     "status": "completed"
    },
    "tags": []
   },
   "outputs": [
    {
     "data": {
      "text/plain": [
       "id                           0\n",
       "title                        4\n",
       "genres                  210982\n",
       "original_language            0\n",
       "overview                118659\n",
       "popularity                   0\n",
       "production_companies    385778\n",
       "release_date             52677\n",
       "budget                       0\n",
       "revenue                      0\n",
       "runtime                  34491\n",
       "status                       0\n",
       "tagline                 614887\n",
       "vote_average                 0\n",
       "vote_count                   0\n",
       "credits                 225164\n",
       "keywords                512716\n",
       "poster_path             185399\n",
       "backdrop_path           500534\n",
       "recommendations         688256\n",
       "dtype: int64"
      ]
     },
     "execution_count": 5,
     "metadata": {},
     "output_type": "execute_result"
    }
   ],
   "source": [
    "# check null value in dataset\n",
    "data.isnull().sum()"
   ]
  },
  {
   "cell_type": "code",
   "execution_count": 6,
   "id": "14a9a62a",
   "metadata": {
    "execution": {
     "iopub.execute_input": "2023-01-23T13:02:12.331680Z",
     "iopub.status.busy": "2023-01-23T13:02:12.331203Z",
     "iopub.status.idle": "2023-01-23T13:02:14.660718Z",
     "shell.execute_reply": "2023-01-23T13:02:14.659213Z"
    },
    "papermill": {
     "duration": 2.344407,
     "end_time": "2023-01-23T13:02:14.662842",
     "exception": false,
     "start_time": "2023-01-23T13:02:12.318435",
     "status": "completed"
    },
    "tags": []
   },
   "outputs": [
    {
     "data": {
      "text/plain": [
       "1"
      ]
     },
     "execution_count": 6,
     "metadata": {},
     "output_type": "execute_result"
    }
   ],
   "source": [
    "# check for duplicate values\n",
    "data.duplicated().sum()"
   ]
  },
  {
   "cell_type": "markdown",
   "id": "938de0ef",
   "metadata": {
    "papermill": {
     "duration": 0.010697,
     "end_time": "2023-01-23T13:02:14.707780",
     "exception": false,
     "start_time": "2023-01-23T13:02:14.697083",
     "status": "completed"
    },
    "tags": []
   },
   "source": [
    "## Cleaning Data"
   ]
  },
  {
   "cell_type": "code",
   "execution_count": 7,
   "id": "46c91a3c",
   "metadata": {
    "execution": {
     "iopub.execute_input": "2023-01-23T13:02:14.732620Z",
     "iopub.status.busy": "2023-01-23T13:02:14.732167Z",
     "iopub.status.idle": "2023-01-23T13:02:14.812592Z",
     "shell.execute_reply": "2023-01-23T13:02:14.811451Z"
    },
    "papermill": {
     "duration": 0.095679,
     "end_time": "2023-01-23T13:02:14.814701",
     "exception": false,
     "start_time": "2023-01-23T13:02:14.719022",
     "status": "completed"
    },
    "tags": []
   },
   "outputs": [],
   "source": [
    "# dropping unnecesary title \n",
    "df = data.drop([\"production_companies\", \"popularity\", \"budget\", \"revenue\", \"status\", \"recommendations\", \"runtime\", \"vote_average\", \"backdrop_path\", \"tagline\"], axis=1)"
   ]
  },
  {
   "cell_type": "code",
   "execution_count": 8,
   "id": "302974e4",
   "metadata": {
    "execution": {
     "iopub.execute_input": "2023-01-23T13:02:14.839765Z",
     "iopub.status.busy": "2023-01-23T13:02:14.839325Z",
     "iopub.status.idle": "2023-01-23T13:02:16.318359Z",
     "shell.execute_reply": "2023-01-23T13:02:16.317233Z"
    },
    "papermill": {
     "duration": 1.494822,
     "end_time": "2023-01-23T13:02:16.321220",
     "exception": false,
     "start_time": "2023-01-23T13:02:14.826398",
     "status": "completed"
    },
    "tags": []
   },
   "outputs": [],
   "source": [
    "# droping duplicate values\n",
    "df.drop_duplicates(inplace=True)"
   ]
  },
  {
   "cell_type": "code",
   "execution_count": 9,
   "id": "c575fb61",
   "metadata": {
    "execution": {
     "iopub.execute_input": "2023-01-23T13:02:16.347668Z",
     "iopub.status.busy": "2023-01-23T13:02:16.347192Z",
     "iopub.status.idle": "2023-01-23T13:02:16.451540Z",
     "shell.execute_reply": "2023-01-23T13:02:16.450603Z"
    },
    "papermill": {
     "duration": 0.120004,
     "end_time": "2023-01-23T13:02:16.453379",
     "exception": false,
     "start_time": "2023-01-23T13:02:16.333375",
     "status": "completed"
    },
    "tags": []
   },
   "outputs": [
    {
     "data": {
      "text/plain": [
       "86981"
      ]
     },
     "execution_count": 9,
     "metadata": {},
     "output_type": "execute_result"
    }
   ],
   "source": [
    "# checking duplicates in title\n",
    "df.title.duplicated().sum()"
   ]
  },
  {
   "cell_type": "code",
   "execution_count": 10,
   "id": "565e8663",
   "metadata": {
    "execution": {
     "iopub.execute_input": "2023-01-23T13:02:16.481007Z",
     "iopub.status.busy": "2023-01-23T13:02:16.479761Z",
     "iopub.status.idle": "2023-01-23T13:02:16.868215Z",
     "shell.execute_reply": "2023-01-23T13:02:16.867275Z"
    },
    "papermill": {
     "duration": 0.405224,
     "end_time": "2023-01-23T13:02:16.870340",
     "exception": false,
     "start_time": "2023-01-23T13:02:16.465116",
     "status": "completed"
    },
    "tags": []
   },
   "outputs": [
    {
     "data": {
      "text/plain": [
       "2267"
      ]
     },
     "execution_count": 10,
     "metadata": {},
     "output_type": "execute_result"
    }
   ],
   "source": [
    "# check if duplicates titles have same release date \n",
    "df[[\"title\", \"release_date\"]].duplicated().sum()"
   ]
  },
  {
   "cell_type": "code",
   "execution_count": 11,
   "id": "8d3a0e37",
   "metadata": {
    "execution": {
     "iopub.execute_input": "2023-01-23T13:02:16.896998Z",
     "iopub.status.busy": "2023-01-23T13:02:16.895589Z",
     "iopub.status.idle": "2023-01-23T13:02:17.342770Z",
     "shell.execute_reply": "2023-01-23T13:02:17.341443Z"
    },
    "papermill": {
     "duration": 0.463387,
     "end_time": "2023-01-23T13:02:17.345641",
     "exception": false,
     "start_time": "2023-01-23T13:02:16.882254",
     "status": "completed"
    },
    "tags": []
   },
   "outputs": [],
   "source": [
    "# get rid of duplicates with same release datae\n",
    "df.drop_duplicates(subset=[\"title\",\"release_date\"], inplace=True)"
   ]
  },
  {
   "cell_type": "code",
   "execution_count": 12,
   "id": "5aba77ee",
   "metadata": {
    "execution": {
     "iopub.execute_input": "2023-01-23T13:02:17.370946Z",
     "iopub.status.busy": "2023-01-23T13:02:17.369630Z",
     "iopub.status.idle": "2023-01-23T13:02:17.411410Z",
     "shell.execute_reply": "2023-01-23T13:02:17.409842Z"
    },
    "papermill": {
     "duration": 0.057071,
     "end_time": "2023-01-23T13:02:17.414371",
     "exception": false,
     "start_time": "2023-01-23T13:02:17.357300",
     "status": "completed"
    },
    "tags": []
   },
   "outputs": [],
   "source": [
    "# get rid of vote_count lower than 350 and reseting index\n",
    "df = df[df.vote_count >= 150].reset_index()"
   ]
  },
  {
   "cell_type": "code",
   "execution_count": 13,
   "id": "3f6d677b",
   "metadata": {
    "execution": {
     "iopub.execute_input": "2023-01-23T13:02:17.439556Z",
     "iopub.status.busy": "2023-01-23T13:02:17.438978Z",
     "iopub.status.idle": "2023-01-23T13:02:17.455930Z",
     "shell.execute_reply": "2023-01-23T13:02:17.454490Z"
    },
    "papermill": {
     "duration": 0.031666,
     "end_time": "2023-01-23T13:02:17.457779",
     "exception": false,
     "start_time": "2023-01-23T13:02:17.426113",
     "status": "completed"
    },
    "tags": []
   },
   "outputs": [
    {
     "data": {
      "text/plain": [
       "index                   0\n",
       "id                      0\n",
       "title                   0\n",
       "genres                  3\n",
       "original_language       0\n",
       "overview               15\n",
       "release_date            0\n",
       "vote_count              0\n",
       "credits                24\n",
       "keywords             1001\n",
       "poster_path             0\n",
       "dtype: int64"
      ]
     },
     "execution_count": 13,
     "metadata": {},
     "output_type": "execute_result"
    }
   ],
   "source": [
    "df.isnull().sum()"
   ]
  },
  {
   "cell_type": "code",
   "execution_count": 14,
   "id": "4fd2cf12",
   "metadata": {
    "execution": {
     "iopub.execute_input": "2023-01-23T13:02:17.483312Z",
     "iopub.status.busy": "2023-01-23T13:02:17.482190Z",
     "iopub.status.idle": "2023-01-23T13:02:17.493742Z",
     "shell.execute_reply": "2023-01-23T13:02:17.492969Z"
    },
    "papermill": {
     "duration": 0.026324,
     "end_time": "2023-01-23T13:02:17.495669",
     "exception": false,
     "start_time": "2023-01-23T13:02:17.469345",
     "status": "completed"
    },
    "tags": []
   },
   "outputs": [],
   "source": [
    "# replacing all the null value from genres adn overview with \"nothing\"\n",
    "df.fillna(\"\", inplace = True)"
   ]
  },
  {
   "cell_type": "code",
   "execution_count": 15,
   "id": "3a7f15ee",
   "metadata": {
    "execution": {
     "iopub.execute_input": "2023-01-23T13:02:17.520357Z",
     "iopub.status.busy": "2023-01-23T13:02:17.519848Z",
     "iopub.status.idle": "2023-01-23T13:02:17.533502Z",
     "shell.execute_reply": "2023-01-23T13:02:17.531826Z"
    },
    "papermill": {
     "duration": 0.028199,
     "end_time": "2023-01-23T13:02:17.535540",
     "exception": false,
     "start_time": "2023-01-23T13:02:17.507341",
     "status": "completed"
    },
    "tags": []
   },
   "outputs": [],
   "source": [
    "# delete movies with no genres and overview\n",
    "index = df[(df.genres == \"\") & (df.overview == \"\")].index\n",
    "df.drop(index, inplace=True)"
   ]
  },
  {
   "cell_type": "code",
   "execution_count": 16,
   "id": "f181e8cc",
   "metadata": {
    "execution": {
     "iopub.execute_input": "2023-01-23T13:02:17.560612Z",
     "iopub.status.busy": "2023-01-23T13:02:17.560144Z",
     "iopub.status.idle": "2023-01-23T13:02:17.612799Z",
     "shell.execute_reply": "2023-01-23T13:02:17.611509Z"
    },
    "papermill": {
     "duration": 0.068375,
     "end_time": "2023-01-23T13:02:17.615354",
     "exception": false,
     "start_time": "2023-01-23T13:02:17.546979",
     "status": "completed"
    },
    "tags": []
   },
   "outputs": [],
   "source": [
    "# replacing genres, credits and keywords - with \" \"\n",
    "df.genres = df.genres.apply(lambda x: \" \".join(x.split(\"-\")))\n",
    "df.keywords = df.keywords.apply(lambda x: \" \".join(x.split(\"-\")))\n",
    "df.credits = df.credits.apply(lambda x: \" \".join(x.replace(\" \", \"\").split(\"-\")[:5]))"
   ]
  },
  {
   "cell_type": "markdown",
   "id": "4934338b",
   "metadata": {
    "papermill": {
     "duration": 0.010892,
     "end_time": "2023-01-23T13:02:17.638301",
     "exception": false,
     "start_time": "2023-01-23T13:02:17.627409",
     "status": "completed"
    },
    "tags": []
   },
   "source": [
    "To predict similar movies using natural language processing techniques, we will utilize text-based data as input for our machine learning model. To facilitate this process, we will create a new column called \"Tags\" that encompasses all the crucial text features such as __Overview, Genres, Keywords, and Original Language__. This will enable us to make accurate predictions of similar movies."
   ]
  },
  {
   "cell_type": "code",
   "execution_count": 17,
   "id": "69060e0d",
   "metadata": {
    "execution": {
     "iopub.execute_input": "2023-01-23T13:02:17.663193Z",
     "iopub.status.busy": "2023-01-23T13:02:17.662711Z",
     "iopub.status.idle": "2023-01-23T13:02:17.684686Z",
     "shell.execute_reply": "2023-01-23T13:02:17.683725Z"
    },
    "papermill": {
     "duration": 0.038167,
     "end_time": "2023-01-23T13:02:17.687567",
     "exception": false,
     "start_time": "2023-01-23T13:02:17.649400",
     "status": "completed"
    },
    "tags": []
   },
   "outputs": [],
   "source": [
    "# making tags for prediction\n",
    "df[\"tags\"] =df.overview + \" \"+ df.genres + \" \"  +df.credits + \" \" +df.keywords + \" \" + df.original_language"
   ]
  },
  {
   "cell_type": "code",
   "execution_count": 18,
   "id": "9dbcd9c8",
   "metadata": {
    "execution": {
     "iopub.execute_input": "2023-01-23T13:02:17.713001Z",
     "iopub.status.busy": "2023-01-23T13:02:17.712434Z",
     "iopub.status.idle": "2023-01-23T13:02:17.721591Z",
     "shell.execute_reply": "2023-01-23T13:02:17.720609Z"
    },
    "papermill": {
     "duration": 0.024163,
     "end_time": "2023-01-23T13:02:17.723654",
     "exception": false,
     "start_time": "2023-01-23T13:02:17.699491",
     "status": "completed"
    },
    "tags": []
   },
   "outputs": [],
   "source": [
    "# making new framework with important features\n",
    "new_df = df[[\"id\", \"title\", \"tags\", 'poster_path']]"
   ]
  },
  {
   "cell_type": "code",
   "execution_count": 19,
   "id": "a5cef94f",
   "metadata": {
    "execution": {
     "iopub.execute_input": "2023-01-23T13:02:17.748808Z",
     "iopub.status.busy": "2023-01-23T13:02:17.748301Z",
     "iopub.status.idle": "2023-01-23T13:02:17.769483Z",
     "shell.execute_reply": "2023-01-23T13:02:17.767110Z"
    },
    "papermill": {
     "duration": 0.037234,
     "end_time": "2023-01-23T13:02:17.772562",
     "exception": false,
     "start_time": "2023-01-23T13:02:17.735328",
     "status": "completed"
    },
    "tags": []
   },
   "outputs": [
    {
     "name": "stderr",
     "output_type": "stream",
     "text": [
      "C:\\Users\\rahul\\AppData\\Local\\Temp\\ipykernel_17672\\3873741253.py:2: SettingWithCopyWarning: \n",
      "A value is trying to be set on a copy of a slice from a DataFrame.\n",
      "Try using .loc[row_indexer,col_indexer] = value instead\n",
      "\n",
      "See the caveats in the documentation: https://pandas.pydata.org/pandas-docs/stable/user_guide/indexing.html#returning-a-view-versus-a-copy\n",
      "  new_df.tags = new_df.tags.apply(lambda x:x.lower())\n"
     ]
    }
   ],
   "source": [
    "# making all the content of tags in lower case letter for better processing\n",
    "new_df.tags = new_df.tags.apply(lambda x:x.lower())"
   ]
  },
  {
   "cell_type": "code",
   "execution_count": 20,
   "id": "ed19a9d4",
   "metadata": {
    "execution": {
     "iopub.execute_input": "2023-01-23T13:02:17.800003Z",
     "iopub.status.busy": "2023-01-23T13:02:17.798749Z",
     "iopub.status.idle": "2023-01-23T13:02:17.807662Z",
     "shell.execute_reply": "2023-01-23T13:02:17.806455Z"
    },
    "papermill": {
     "duration": 0.02424,
     "end_time": "2023-01-23T13:02:17.809467",
     "exception": false,
     "start_time": "2023-01-23T13:02:17.785227",
     "status": "completed"
    },
    "tags": []
   },
   "outputs": [
    {
     "data": {
      "text/plain": [
       "'after dominating the boxing world adonis creed has been thriving in both his career and family life. when a childhood friend and former boxing prodigy damien anderson resurfaces after serving a long sentence in prison he is eager to prove that he deserves his shot in the ring. the face-off between former friends is more than just a fight. to settle the score adonis must put his future on the line to battle damien — a fighter who has nothing to lose. drama action michaelb.jordan tessathompson jonathanmajors woodharris phyliciarashād philadelphia pennsylvania husband wife relationship deaf sports sequel orphan former best friend ex con childhood friends juvenile detention center boxing prodigy en'"
      ]
     },
     "execution_count": 20,
     "metadata": {},
     "output_type": "execute_result"
    }
   ],
   "source": [
    "new_df.tags[0]"
   ]
  },
  {
   "cell_type": "code",
   "execution_count": 21,
   "id": "d3c6e87e",
   "metadata": {
    "execution": {
     "iopub.execute_input": "2023-01-23T13:02:17.836053Z",
     "iopub.status.busy": "2023-01-23T13:02:17.835520Z",
     "iopub.status.idle": "2023-01-23T13:02:17.848684Z",
     "shell.execute_reply": "2023-01-23T13:02:17.847359Z"
    },
    "papermill": {
     "duration": 0.029062,
     "end_time": "2023-01-23T13:02:17.850947",
     "exception": false,
     "start_time": "2023-01-23T13:02:17.821885",
     "status": "completed"
    },
    "tags": []
   },
   "outputs": [
    {
     "data": {
      "text/html": [
       "<div>\n",
       "<style scoped>\n",
       "    .dataframe tbody tr th:only-of-type {\n",
       "        vertical-align: middle;\n",
       "    }\n",
       "\n",
       "    .dataframe tbody tr th {\n",
       "        vertical-align: top;\n",
       "    }\n",
       "\n",
       "    .dataframe thead th {\n",
       "        text-align: right;\n",
       "    }\n",
       "</style>\n",
       "<table border=\"1\" class=\"dataframe\">\n",
       "  <thead>\n",
       "    <tr style=\"text-align: right;\">\n",
       "      <th></th>\n",
       "      <th>id</th>\n",
       "      <th>title</th>\n",
       "      <th>tags</th>\n",
       "      <th>poster_path</th>\n",
       "    </tr>\n",
       "  </thead>\n",
       "  <tbody>\n",
       "    <tr>\n",
       "      <th>0</th>\n",
       "      <td>677179</td>\n",
       "      <td>Creed III</td>\n",
       "      <td>after dominating the boxing world adonis creed...</td>\n",
       "      <td>/vJU3rXSP9hwUuLeq8IpfsJShLOk.jpg</td>\n",
       "    </tr>\n",
       "  </tbody>\n",
       "</table>\n",
       "</div>"
      ],
      "text/plain": [
       "       id      title                                               tags  \\\n",
       "0  677179  Creed III  after dominating the boxing world adonis creed...   \n",
       "\n",
       "                        poster_path  \n",
       "0  /vJU3rXSP9hwUuLeq8IpfsJShLOk.jpg  "
      ]
     },
     "execution_count": 21,
     "metadata": {},
     "output_type": "execute_result"
    }
   ],
   "source": [
    "new_df.head(1)"
   ]
  },
  {
   "cell_type": "markdown",
   "id": "4b4830af",
   "metadata": {
    "papermill": {
     "duration": 0.011931,
     "end_time": "2023-01-23T13:02:17.875724",
     "exception": false,
     "start_time": "2023-01-23T13:02:17.863793",
     "status": "completed"
    },
    "tags": []
   },
   "source": [
    "## Vectorizer - Stemming"
   ]
  },
  {
   "cell_type": "code",
   "execution_count": 22,
   "id": "75ec4a8b",
   "metadata": {
    "execution": {
     "iopub.execute_input": "2023-01-23T13:02:17.926895Z",
     "iopub.status.busy": "2023-01-23T13:02:17.926394Z",
     "iopub.status.idle": "2023-01-23T13:02:18.518110Z",
     "shell.execute_reply": "2023-01-23T13:02:18.516860Z"
    },
    "papermill": {
     "duration": 0.609471,
     "end_time": "2023-01-23T13:02:18.520853",
     "exception": false,
     "start_time": "2023-01-23T13:02:17.911382",
     "status": "completed"
    },
    "tags": []
   },
   "outputs": [],
   "source": [
    "#import nltk library and porter module\n",
    "import nltk\n",
    "from nltk.stem.porter import PorterStemmer\n",
    "ps = PorterStemmer()"
   ]
  },
  {
   "cell_type": "code",
   "execution_count": 23,
   "id": "4ad223ba",
   "metadata": {
    "execution": {
     "iopub.execute_input": "2023-01-23T13:02:18.546722Z",
     "iopub.status.busy": "2023-01-23T13:02:18.546274Z",
     "iopub.status.idle": "2023-01-23T13:02:18.554355Z",
     "shell.execute_reply": "2023-01-23T13:02:18.553139Z"
    },
    "papermill": {
     "duration": 0.023315,
     "end_time": "2023-01-23T13:02:18.556387",
     "exception": false,
     "start_time": "2023-01-23T13:02:18.533072",
     "status": "completed"
    },
    "tags": []
   },
   "outputs": [],
   "source": [
    "# stem function to take text and give output\n",
    "def stem(text):\n",
    "    y = []\n",
    "    for i in text.split():\n",
    "        y.append(ps.stem(i))\n",
    "    \n",
    "    return \" \".join(y)    "
   ]
  },
  {
   "cell_type": "code",
   "execution_count": 24,
   "id": "8e2f4d3a",
   "metadata": {
    "execution": {
     "iopub.execute_input": "2023-01-23T13:02:18.582276Z",
     "iopub.status.busy": "2023-01-23T13:02:18.581840Z",
     "iopub.status.idle": "2023-01-23T13:02:29.722147Z",
     "shell.execute_reply": "2023-01-23T13:02:29.720784Z"
    },
    "papermill": {
     "duration": 11.156139,
     "end_time": "2023-01-23T13:02:29.724672",
     "exception": false,
     "start_time": "2023-01-23T13:02:18.568533",
     "status": "completed"
    },
    "tags": []
   },
   "outputs": [
    {
     "name": "stderr",
     "output_type": "stream",
     "text": [
      "C:\\Users\\rahul\\AppData\\Local\\Temp\\ipykernel_17672\\963327212.py:2: SettingWithCopyWarning: \n",
      "A value is trying to be set on a copy of a slice from a DataFrame.\n",
      "Try using .loc[row_indexer,col_indexer] = value instead\n",
      "\n",
      "See the caveats in the documentation: https://pandas.pydata.org/pandas-docs/stable/user_guide/indexing.html#returning-a-view-versus-a-copy\n",
      "  new_df[\"tags\"] = new_df[\"tags\"].apply(stem)\n"
     ]
    }
   ],
   "source": [
    "# applying stem function in tags\n",
    "new_df[\"tags\"] = new_df[\"tags\"].apply(stem)"
   ]
  },
  {
   "cell_type": "markdown",
   "id": "ba884499",
   "metadata": {
    "papermill": {
     "duration": 0.011206,
     "end_time": "2023-01-23T13:02:29.748057",
     "exception": false,
     "start_time": "2023-01-23T13:02:29.736851",
     "status": "completed"
    },
    "tags": []
   },
   "source": [
    "## Text Vectorization"
   ]
  },
  {
   "cell_type": "code",
   "execution_count": 25,
   "id": "ab6d05b1",
   "metadata": {
    "execution": {
     "iopub.execute_input": "2023-01-23T13:02:29.773322Z",
     "iopub.status.busy": "2023-01-23T13:02:29.772834Z",
     "iopub.status.idle": "2023-01-23T13:02:29.778295Z",
     "shell.execute_reply": "2023-01-23T13:02:29.777249Z"
    },
    "papermill": {
     "duration": 0.020632,
     "end_time": "2023-01-23T13:02:29.780160",
     "exception": false,
     "start_time": "2023-01-23T13:02:29.759528",
     "status": "completed"
    },
    "tags": []
   },
   "outputs": [],
   "source": [
    "# importing countvectorizer\n",
    "from sklearn.feature_extraction.text import CountVectorizer\n",
    "# setting for 5000 most repeated words, and exclude stop words\n",
    "cv = CountVectorizer(stop_words=\"english\",max_features=5000)"
   ]
  },
  {
   "cell_type": "code",
   "execution_count": 26,
   "id": "1b4334ff",
   "metadata": {
    "execution": {
     "iopub.execute_input": "2023-01-23T13:02:29.805954Z",
     "iopub.status.busy": "2023-01-23T13:02:29.805285Z",
     "iopub.status.idle": "2023-01-23T13:02:30.328234Z",
     "shell.execute_reply": "2023-01-23T13:02:30.327071Z"
    },
    "papermill": {
     "duration": 0.538765,
     "end_time": "2023-01-23T13:02:30.330852",
     "exception": false,
     "start_time": "2023-01-23T13:02:29.792087",
     "status": "completed"
    },
    "tags": []
   },
   "outputs": [],
   "source": [
    "# fiting tags in count vector\n",
    "vectors = cv.fit_transform(new_df[\"tags\"]).toarray() #change it into array to use"
   ]
  },
  {
   "cell_type": "code",
   "execution_count": 27,
   "id": "ff7f2047",
   "metadata": {
    "execution": {
     "iopub.execute_input": "2023-01-23T13:02:30.356967Z",
     "iopub.status.busy": "2023-01-23T13:02:30.355746Z",
     "iopub.status.idle": "2023-01-23T13:02:30.368293Z",
     "shell.execute_reply": "2023-01-23T13:02:30.366642Z"
    },
    "papermill": {
     "duration": 0.02746,
     "end_time": "2023-01-23T13:02:30.370398",
     "exception": false,
     "start_time": "2023-01-23T13:02:30.342938",
     "status": "completed"
    },
    "tags": []
   },
   "outputs": [
    {
     "name": "stderr",
     "output_type": "stream",
     "text": [
      "C:\\Users\\rahul\\anaconda3\\lib\\site-packages\\sklearn\\utils\\deprecation.py:87: FutureWarning: Function get_feature_names is deprecated; get_feature_names is deprecated in 1.0 and will be removed in 1.2. Please use get_feature_names_out instead.\n",
      "  warnings.warn(msg, category=FutureWarning)\n"
     ]
    },
    {
     "data": {
      "text/plain": [
       "['acquaint', 'act', 'action', 'activ', 'activist']"
      ]
     },
     "execution_count": 27,
     "metadata": {},
     "output_type": "execute_result"
    }
   ],
   "source": [
    "cv.get_feature_names()[80:85]"
   ]
  },
  {
   "cell_type": "markdown",
   "id": "bd34f29d",
   "metadata": {
    "papermill": {
     "duration": 0.011511,
     "end_time": "2023-01-23T13:02:30.393888",
     "exception": false,
     "start_time": "2023-01-23T13:02:30.382377",
     "status": "completed"
    },
    "tags": []
   },
   "source": [
    "## Model Building"
   ]
  },
  {
   "cell_type": "code",
   "execution_count": 28,
   "id": "f6797651",
   "metadata": {
    "execution": {
     "iopub.execute_input": "2023-01-23T13:02:30.420304Z",
     "iopub.status.busy": "2023-01-23T13:02:30.419858Z",
     "iopub.status.idle": "2023-01-23T13:02:33.815534Z",
     "shell.execute_reply": "2023-01-23T13:02:33.814613Z"
    },
    "papermill": {
     "duration": 3.412129,
     "end_time": "2023-01-23T13:02:33.818181",
     "exception": false,
     "start_time": "2023-01-23T13:02:30.406052",
     "status": "completed"
    },
    "tags": []
   },
   "outputs": [],
   "source": [
    "# Similarity vector with cosine \n",
    "from sklearn.metrics.pairwise import cosine_similarity\n",
    "# calculating similarity of each movie with all movies\n",
    "similarity = cosine_similarity(vectors)"
   ]
  },
  {
   "cell_type": "code",
   "execution_count": 29,
   "id": "f26aac09",
   "metadata": {
    "execution": {
     "iopub.execute_input": "2023-01-23T13:02:33.849504Z",
     "iopub.status.busy": "2023-01-23T13:02:33.848182Z",
     "iopub.status.idle": "2023-01-23T13:02:33.855810Z",
     "shell.execute_reply": "2023-01-23T13:02:33.854708Z"
    },
    "papermill": {
     "duration": 0.025287,
     "end_time": "2023-01-23T13:02:33.859261",
     "exception": false,
     "start_time": "2023-01-23T13:02:33.833974",
     "status": "completed"
    },
    "tags": []
   },
   "outputs": [
    {
     "data": {
      "text/plain": [
       "(13034, 13034)"
      ]
     },
     "execution_count": 29,
     "metadata": {},
     "output_type": "execute_result"
    }
   ],
   "source": [
    "# similarity of each movie with all the movies\n",
    "similarity.shape"
   ]
  },
  {
   "cell_type": "markdown",
   "id": "495f7e9c",
   "metadata": {
    "papermill": {
     "duration": 0.011938,
     "end_time": "2023-01-23T13:02:33.884231",
     "exception": false,
     "start_time": "2023-01-23T13:02:33.872293",
     "status": "completed"
    },
    "tags": []
   },
   "source": [
    "## Testing Model"
   ]
  },
  {
   "cell_type": "code",
   "execution_count": 30,
   "id": "db4e3762",
   "metadata": {
    "execution": {
     "iopub.execute_input": "2023-01-23T13:02:33.912730Z",
     "iopub.status.busy": "2023-01-23T13:02:33.911557Z",
     "iopub.status.idle": "2023-01-23T13:02:33.918000Z",
     "shell.execute_reply": "2023-01-23T13:02:33.917100Z"
    },
    "papermill": {
     "duration": 0.023415,
     "end_time": "2023-01-23T13:02:33.920070",
     "exception": false,
     "start_time": "2023-01-23T13:02:33.896655",
     "status": "completed"
    },
    "tags": []
   },
   "outputs": [],
   "source": [
    "# making function to find movie and give similar movies as return\n",
    "def recommend(movies):\n",
    "    movie_index = new_df[new_df.title == movies].index[0]\n",
    "    distances = similarity[movie_index]\n",
    "    movies_list = sorted(list(enumerate(distances)), reverse=True, key= lambda x:x[1])[1:6]\n",
    "    \n",
    "    for i in movies_list:\n",
    "        print(new_df.iloc[i[0]].title)\n",
    "\n",
    "    "
   ]
  },
  {
   "cell_type": "code",
   "execution_count": 31,
   "id": "f347ce51",
   "metadata": {
    "execution": {
     "iopub.execute_input": "2023-01-23T13:02:33.948001Z",
     "iopub.status.busy": "2023-01-23T13:02:33.946795Z",
     "iopub.status.idle": "2023-01-23T13:02:33.960297Z",
     "shell.execute_reply": "2023-01-23T13:02:33.958950Z"
    },
    "papermill": {
     "duration": 0.029161,
     "end_time": "2023-01-23T13:02:33.962192",
     "exception": false,
     "start_time": "2023-01-23T13:02:33.933031",
     "status": "completed"
    },
    "tags": []
   },
   "outputs": [
    {
     "name": "stdout",
     "output_type": "stream",
     "text": [
      "Batman: Mask of the Phantasm\n",
      "The Dark Knight\n",
      "Batman & Robin\n",
      "Batman Returns\n",
      "Dick Tracy\n"
     ]
    }
   ],
   "source": [
    "# checking similar movies test 1\n",
    "recommend(\"Batman\")"
   ]
  },
  {
   "cell_type": "code",
   "execution_count": 32,
   "id": "465b920b",
   "metadata": {
    "execution": {
     "iopub.execute_input": "2023-01-23T13:02:33.988505Z",
     "iopub.status.busy": "2023-01-23T13:02:33.988072Z",
     "iopub.status.idle": "2023-01-23T13:02:34.000271Z",
     "shell.execute_reply": "2023-01-23T13:02:33.999311Z"
    },
    "papermill": {
     "duration": 0.028486,
     "end_time": "2023-01-23T13:02:34.003049",
     "exception": false,
     "start_time": "2023-01-23T13:02:33.974563",
     "status": "completed"
    },
    "tags": []
   },
   "outputs": [
    {
     "name": "stdout",
     "output_type": "stream",
     "text": [
      "Zack Snyder's Justice League\n",
      "Justice League\n",
      "X-Men: Apocalypse\n",
      "Superman vs. The Elite\n",
      "Krrish\n"
     ]
    }
   ],
   "source": [
    "# test 2\n",
    "recommend(\"Black Adam\")"
   ]
  },
  {
   "cell_type": "markdown",
   "id": "c81bc851",
   "metadata": {
    "papermill": {
     "duration": 0.011744,
     "end_time": "2023-01-23T13:02:34.027436",
     "exception": false,
     "start_time": "2023-01-23T13:02:34.015692",
     "status": "completed"
    },
    "tags": []
   },
   "source": [
    "__Observation__ \\\n",
    "the function is returning similar 5 movies which means our Model building is Sucessfull"
   ]
  },
  {
   "cell_type": "markdown",
   "id": "0dfff548",
   "metadata": {
    "papermill": {
     "duration": 0.011666,
     "end_time": "2023-01-23T13:02:34.051116",
     "exception": false,
     "start_time": "2023-01-23T13:02:34.039450",
     "status": "completed"
    },
    "tags": []
   },
   "source": [
    "## Deployment"
   ]
  },
  {
   "cell_type": "code",
   "execution_count": 33,
   "id": "a6c573a0",
   "metadata": {
    "execution": {
     "iopub.execute_input": "2023-01-23T13:02:34.077772Z",
     "iopub.status.busy": "2023-01-23T13:02:34.077011Z",
     "iopub.status.idle": "2023-01-23T13:02:34.081311Z",
     "shell.execute_reply": "2023-01-23T13:02:34.080607Z"
    },
    "papermill": {
     "duration": 0.020002,
     "end_time": "2023-01-23T13:02:34.083067",
     "exception": false,
     "start_time": "2023-01-23T13:02:34.063065",
     "status": "completed"
    },
    "tags": []
   },
   "outputs": [],
   "source": [
    "# import Pickle\n",
    "import pickle "
   ]
  },
  {
   "cell_type": "code",
   "execution_count": 34,
   "id": "82358083",
   "metadata": {
    "execution": {
     "iopub.execute_input": "2023-01-23T13:02:34.109480Z",
     "iopub.status.busy": "2023-01-23T13:02:34.108789Z",
     "iopub.status.idle": "2023-01-23T13:02:34.123031Z",
     "shell.execute_reply": "2023-01-23T13:02:34.122169Z"
    },
    "papermill": {
     "duration": 0.029936,
     "end_time": "2023-01-23T13:02:34.125451",
     "exception": false,
     "start_time": "2023-01-23T13:02:34.095515",
     "status": "completed"
    },
    "tags": []
   },
   "outputs": [],
   "source": [
    "# making portable movie pickle file to transport \n",
    "pickle.dump(new_df, open(\"movies.pkl\", \"wb\"))"
   ]
  },
  {
   "cell_type": "code",
   "execution_count": 35,
   "id": "99ec21f7",
   "metadata": {
    "execution": {
     "iopub.execute_input": "2023-01-23T13:02:34.151593Z",
     "iopub.status.busy": "2023-01-23T13:02:34.150951Z",
     "iopub.status.idle": "2023-01-23T13:02:34.571510Z",
     "shell.execute_reply": "2023-01-23T13:02:34.569776Z"
    },
    "papermill": {
     "duration": 0.436975,
     "end_time": "2023-01-23T13:02:34.574799",
     "exception": false,
     "start_time": "2023-01-23T13:02:34.137824",
     "status": "completed"
    },
    "tags": []
   },
   "outputs": [],
   "source": [
    "# making portable similarity file to transport\n",
    "pickle.dump(similarity, open(\"similarity.pkl\", \"wb\"))"
   ]
  },
  {
   "cell_type": "markdown",
   "id": "8de3d0a0",
   "metadata": {
    "papermill": {
     "duration": 0.01304,
     "end_time": "2023-01-23T13:02:34.600760",
     "exception": false,
     "start_time": "2023-01-23T13:02:34.587720",
     "status": "completed"
    },
    "tags": []
   },
   "source": [
    "## Deployed on Streamlit using the below code"
   ]
  },
  {
   "cell_type": "code",
   "execution_count": 36,
   "id": "75f7123b",
   "metadata": {
    "execution": {
     "iopub.execute_input": "2023-01-23T13:02:34.628690Z",
     "iopub.status.busy": "2023-01-23T13:02:34.628210Z",
     "iopub.status.idle": "2023-01-23T13:02:34.638743Z",
     "shell.execute_reply": "2023-01-23T13:02:34.636766Z"
    },
    "papermill": {
     "duration": 0.028573,
     "end_time": "2023-01-23T13:02:34.642466",
     "exception": false,
     "start_time": "2023-01-23T13:02:34.613893",
     "status": "completed"
    },
    "tags": []
   },
   "outputs": [
    {
     "data": {
      "text/plain": [
       "'\\n# first import streamlit and pickle\\nimport streamlit as st\\nimport pickle\\n\\n# extract the new_df dataframe from movies.pkl\\nmovies_list = pickle.load(open(\"movies.pkl\", \"rb\"))\\n# extract the titles of movies\\nmovies_list_title = movies_list[\"title\"].values\\n\\n# extract the similarity which contain our cosine similarity values\\nsimilarity = pickle.load(open(\"similarity.pkl\", \"rb\"))\\n\\n\\n# make a recommend function which will take movie title and return 5 similar movies with their posters\\ndef recommend(movie):\\n    movie_index = movies_list[movies_list[\"title\"] == movie].index[0]\\n    distances = similarity[movie_index]\\n    sorted_movie_list = sorted(list(enumerate(distances)), reverse=True,\\n                               key=lambda x: x[1])[1:6]\\n\\n    recommended_movies = []\\n    recommended_posters = []\\n    for i in sorted_movie_list:\\n        poster_path = movies_list[\"poster_path\"][i[0]]\\n        recommended_movies.append(movies_list.iloc[i[0]].title)\\n        recommended_posters.append(\\n            \"https://image.tmdb.org/t/p/original\"+poster_path)\\n\\n    return recommended_movies,  recommended_posters\\n\\n# Create title for your stream lit page\\nst.set_page_config(page_title=\"Movie Recommendation System\", page_icon=\":clapper:\")\\nst.title(\"Movie Recommendation System\")\\n\\n\\ndef add_bg_from_url():\\n    st.markdown(\\n        f\"\"\"\\n         <style>\\n         .stApp {{\\n             background-image: url(\"https://images.unsplash.com/photo-1489599849927-2ee91cede3ba?ixlib=rb-4.0.3&ixid=MnwxMjA3fDB8MHxwaG90by1wYWdlfHx8fGVufDB8fHx8&auto=format&fit=crop&w=2070&q=80\");\\n             background-attachment: fixed;\\n             background-size: cover\\n         }}\\n\\n        [data-testid=\"stHeader\"] {{\\n        background: rgba(0,0,0,0);\\n        }}\\n         </style>\\n         \"\"\",\\n        unsafe_allow_html=True\\n    )\\n\\n\\nadd_bg_from_url()\\n\\n# Create a input box for movies name\\nselected_movie_name = st.selectbox(\\n    \"What is the movie name?\",\\n    movies_list_title\\n)\\n\\n# create a recommend button with function of displaying recommended movies and movie posters\\nif st.button(\"Recommend\"):\\n    recommendation, movie_posters = recommend(selected_movie_name)\\n\\n    cols = st.columns(5)\\n    for i in range(5):\\n        with cols[i]:\\n            st.write(recommendation[i])\\n            st.image(movie_posters[i])\\n\\n'"
      ]
     },
     "execution_count": 36,
     "metadata": {},
     "output_type": "execute_result"
    }
   ],
   "source": [
    "'''\n",
    "# first import streamlit and pickle\n",
    "import streamlit as st\n",
    "import pickle\n",
    "\n",
    "# extract the new_df dataframe from movies.pkl\n",
    "movies_list = pickle.load(open(\"movies.pkl\", \"rb\"))\n",
    "# extract the titles of movies\n",
    "movies_list_title = movies_list[\"title\"].values\n",
    "\n",
    "# extract the similarity which contain our cosine similarity values\n",
    "similarity = pickle.load(open(\"similarity.pkl\", \"rb\"))\n",
    "\n",
    "\n",
    "# make a recommend function which will take movie title and return 5 similar movies with their posters\n",
    "def recommend(movie):\n",
    "    movie_index = movies_list[movies_list[\"title\"] == movie].index[0]\n",
    "    distances = similarity[movie_index]\n",
    "    sorted_movie_list = sorted(list(enumerate(distances)), reverse=True,\n",
    "                               key=lambda x: x[1])[1:6]\n",
    "\n",
    "    recommended_movies = []\n",
    "    recommended_posters = []\n",
    "    for i in sorted_movie_list:\n",
    "        poster_path = movies_list[\"poster_path\"][i[0]]\n",
    "        recommended_movies.append(movies_list.iloc[i[0]].title)\n",
    "        recommended_posters.append(\n",
    "            \"https://image.tmdb.org/t/p/original\"+poster_path)\n",
    "\n",
    "    return recommended_movies,  recommended_posters\n",
    "\n",
    "# Create title for your stream lit page\n",
    "st.set_page_config(page_title=\"Movie Recommendation System\", page_icon=\":clapper:\")\n",
    "st.title(\"Movie Recommendation System\")\n",
    "\n",
    "\n",
    "def add_bg_from_url():\n",
    "    st.markdown(\n",
    "        f\"\"\"\n",
    "         <style>\n",
    "         .stApp {{\n",
    "             background-image: url(\"https://images.unsplash.com/photo-1489599849927-2ee91cede3ba?ixlib=rb-4.0.3&ixid=MnwxMjA3fDB8MHxwaG90by1wYWdlfHx8fGVufDB8fHx8&auto=format&fit=crop&w=2070&q=80\");\n",
    "             background-attachment: fixed;\n",
    "             background-size: cover\n",
    "         }}\n",
    "\n",
    "        [data-testid=\"stHeader\"] {{\n",
    "        background: rgba(0,0,0,0);\n",
    "        }}\n",
    "         </style>\n",
    "         \"\"\",\n",
    "        unsafe_allow_html=True\n",
    "    )\n",
    "\n",
    "\n",
    "add_bg_from_url()\n",
    "\n",
    "# Create a input box for movies name\n",
    "selected_movie_name = st.selectbox(\n",
    "    \"What is the movie name?\",\n",
    "    movies_list_title\n",
    ")\n",
    "\n",
    "# create a recommend button with function of displaying recommended movies and movie posters\n",
    "if st.button(\"Recommend\"):\n",
    "    recommendation, movie_posters = recommend(selected_movie_name)\n",
    "\n",
    "    cols = st.columns(5)\n",
    "    for i in range(5):\n",
    "        with cols[i]:\n",
    "            st.write(recommendation[i])\n",
    "            st.image(movie_posters[i])\n",
    "\n",
    "'''"
   ]
  },
  {
   "cell_type": "code",
   "execution_count": null,
   "id": "3ef294cd",
   "metadata": {},
   "outputs": [],
   "source": []
  }
 ],
 "metadata": {
  "kernelspec": {
   "display_name": "Python 3 (ipykernel)",
   "language": "python",
   "name": "python3"
  },
  "language_info": {
   "codemirror_mode": {
    "name": "ipython",
    "version": 3
   },
   "file_extension": ".py",
   "mimetype": "text/x-python",
   "name": "python",
   "nbconvert_exporter": "python",
   "pygments_lexer": "ipython3",
   "version": "3.9.13"
  },
  "papermill": {
   "default_parameters": {},
   "duration": 43.375827,
   "end_time": "2023-01-23T13:02:35.730838",
   "environment_variables": {},
   "exception": null,
   "input_path": "__notebook__.ipynb",
   "output_path": "__notebook__.ipynb",
   "parameters": {},
   "start_time": "2023-01-23T13:01:52.355011",
   "version": "2.3.4"
  }
 },
 "nbformat": 4,
 "nbformat_minor": 5
}
